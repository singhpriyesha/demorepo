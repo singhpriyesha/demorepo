{
 "cells": [
  {
   "cell_type": "code",
   "execution_count": 1,
   "id": "0cf73a11",
   "metadata": {},
   "outputs": [
    {
     "name": "stdout",
     "output_type": "stream",
     "text": [
      "hello world\n"
     ]
    }
   ],
   "source": [
    "print(\"hello world\")\n",
    "#print is a function in python\n",
    "#parentheses are round brackets\n",
    "#'' \"\""
   ]
  },
  {
   "cell_type": "code",
   "execution_count": 2,
   "id": "5b659a31",
   "metadata": {},
   "outputs": [
    {
     "name": "stdout",
     "output_type": "stream",
     "text": [
      "10\n",
      "20\n",
      "priyesha\n"
     ]
    }
   ],
   "source": [
    "# is a comment in python\n",
    "# the following code will print the value of a variable in python\n",
    "# x=10 y=20 c=a+b\n",
    "# x=\"priyesha\"\n",
    "\n",
    "x = 10\n",
    "y = 20\n",
    "myName = \"priyesha\"\n",
    "\n",
    "print(x)\n",
    "print(y)\n",
    "print(myName)"
   ]
  },
  {
   "cell_type": "code",
   "execution_count": 1,
   "id": "6eb2f93b",
   "metadata": {},
   "outputs": [
    {
     "name": "stdout",
     "output_type": "stream",
     "text": [
      "priyesha singh\n"
     ]
    }
   ],
   "source": [
    "firstname = \"priyesha\"\n",
    "lastname = \"singh\"\n",
    "print(firstname,lastname)"
   ]
  },
  {
   "cell_type": "code",
   "execution_count": 2,
   "id": "b0fcfbb6",
   "metadata": {},
   "outputs": [
    {
     "name": "stdout",
     "output_type": "stream",
     "text": [
      "priyeshasingh\n"
     ]
    }
   ],
   "source": [
    "print(firstname+lastname)"
   ]
  },
  {
   "cell_type": "code",
   "execution_count": 3,
   "id": "990249db",
   "metadata": {},
   "outputs": [
    {
     "name": "stdout",
     "output_type": "stream",
     "text": [
      "110\n"
     ]
    }
   ],
   "source": [
    "a = 50\n",
    "b = 60\n",
    "\n",
    "#the sum of a and b is 110\n",
    "\n",
    "print(a+b)"
   ]
  },
  {
   "cell_type": "code",
   "execution_count": 5,
   "id": "f69a6833",
   "metadata": {},
   "outputs": [
    {
     "name": "stdout",
     "output_type": "stream",
     "text": [
      "the sum of a and b is 110\n"
     ]
    }
   ],
   "source": [
    "print(\"the sum of a and b is\",a+b)"
   ]
  },
  {
   "cell_type": "code",
   "execution_count": null,
   "id": "03af251f",
   "metadata": {},
   "outputs": [],
   "source": []
  }
 ],
 "metadata": {
  "kernelspec": {
   "display_name": "Python 3 (ipykernel)",
   "language": "python",
   "name": "python3"
  },
  "language_info": {
   "codemirror_mode": {
    "name": "ipython",
    "version": 3
   },
   "file_extension": ".py",
   "mimetype": "text/x-python",
   "name": "python",
   "nbconvert_exporter": "python",
   "pygments_lexer": "ipython3",
   "version": "3.9.12"
  }
 },
 "nbformat": 4,
 "nbformat_minor": 5
}
